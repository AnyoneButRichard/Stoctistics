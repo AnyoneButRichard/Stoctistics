{
 "cells": [
  {
   "cell_type": "code",
   "execution_count": 3,
   "metadata": {},
   "outputs": [],
   "source": [
    "from stocks import Stocks_Helper\n",
    "from database import Data_Client\n",
    "import pandas as pd"
   ]
  },
  {
   "cell_type": "code",
   "execution_count": 14,
   "metadata": {},
   "outputs": [],
   "source": [
    "client = Data_Client()\n",
    "collection = client[\"stocks\"]"
   ]
  },
  {
   "cell_type": "code",
   "execution_count": 16,
   "metadata": {},
   "outputs": [],
   "source": [
    "helper = Stocks_Helper()\n",
    "query1 = {\"Symbol\": \"MSFT\"}"
   ]
  },
  {
   "cell_type": "code",
   "execution_count": 187,
   "metadata": {},
   "outputs": [],
   "source": [
    "doc_list = collection.find(query1)\n",
    "df = pd.DataFrame(columns=helper.columns)"
   ]
  },
  {
   "cell_type": "code",
   "execution_count": 188,
   "metadata": {},
   "outputs": [],
   "source": [
    "d_list = []\n",
    "for doc in doc_list:\n",
    "    d_list.append(doc)"
   ]
  },
  {
   "cell_type": "code",
   "execution_count": 189,
   "metadata": {},
   "outputs": [
    {
     "name": "stdout",
     "output_type": "stream",
     "text": [
      "                       Open   Close    High     Low  Volume Dividends Splits\n",
      "2020-08-13 13:30:00  209.44  209.61  209.86  209.44  663044         0      0\n",
      "2020-08-13 13:31:00  209.61  210.18  210.30  209.61  213997         0      0\n",
      "2020-08-13 13:32:00  210.11  209.63  210.15  209.56   70513         0      0\n",
      "2020-08-13 13:33:00  209.63  210.07  210.09  209.21  131474         0      0\n",
      "2020-08-13 13:34:00  210.06  209.91  210.30  209.87  116028         0      0\n",
      "...                     ...     ...     ...     ...     ...       ...    ...\n",
      "2020-08-26 19:58:17  221.18  221.18  221.18  221.18       0         0      0\n",
      "2020-08-26 19:59:16  220.94  220.94  220.94  220.94       0         0      0\n",
      "2020-08-26 19:59:00  221.03  221.15  221.19  220.89  438125         0      0\n",
      "2020-08-26 19:59:00  221.03  221.15  221.19  220.89       0         0      0\n",
      "2020-08-26 19:59:00  221.03  221.15  221.19  220.87  438275         0      0\n",
      "\n",
      "[3894 rows x 7 columns]\n"
     ]
    }
   ],
   "source": [
    "for doc in d_list:\n",
    "    doc_df = pd.DataFrame(doc[\"history\"])\n",
    "    doc_df = doc_df.set_index(\"Timestamp\")\n",
    "    df = df.append(doc_df)\n",
    "print(df)"
   ]
  },
  {
   "cell_type": "code",
   "execution_count": 164,
   "metadata": {},
   "outputs": [],
   "source": [
    "for doc in d_list:\n",
    "    for obj in doc[\"history\"]:\n",
    "        doc_df = pd.DataFrame(obj, columns = helper.columns, index = [obj[\"Timestamp\"]])\n",
    "        df.append(doc_df)"
   ]
  },
  {
   "cell_type": "code",
   "execution_count": 166,
   "metadata": {},
   "outputs": [
    {
     "name": "stdout",
     "output_type": "stream",
     "text": [
      "                       Open   Close    High     Low  Volume  Dividends  Splits\n",
      "2020-08-26 13:30:01  217.87  217.87  217.87  217.87       0          0       0\n",
      "                       Open   Close    High     Low  Volume  Dividends  Splits\n",
      "2020-08-26 19:59:00  221.03  221.15  221.19  220.87  438275          0       0\n"
     ]
    }
   ],
   "source": [
    "print(df)\n",
    "print(doc_df)"
   ]
  },
  {
   "cell_type": "code",
   "execution_count": 62,
   "metadata": {},
   "outputs": [
    {
     "ename": "AttributeError",
     "evalue": "type object 'DataFrame' has no attribute 'from_record'",
     "output_type": "error",
     "traceback": [
      "\u001b[0;31m---------------------------------------------------------------------------\u001b[0m",
      "\u001b[0;31mAttributeError\u001b[0m                            Traceback (most recent call last)",
      "\u001b[0;32m<ipython-input-62-b2832594bb96>\u001b[0m in \u001b[0;36m<module>\u001b[0;34m\u001b[0m\n\u001b[1;32m      1\u001b[0m \u001b[0;32mfor\u001b[0m \u001b[0mdoc\u001b[0m \u001b[0;32min\u001b[0m \u001b[0mdoc_list\u001b[0m\u001b[0;34m:\u001b[0m\u001b[0;34m\u001b[0m\u001b[0;34m\u001b[0m\u001b[0m\n\u001b[1;32m      2\u001b[0m     \u001b[0;32mfor\u001b[0m \u001b[0mobj\u001b[0m \u001b[0;32min\u001b[0m \u001b[0mdoc\u001b[0m\u001b[0;34m:\u001b[0m\u001b[0;34m\u001b[0m\u001b[0;34m\u001b[0m\u001b[0m\n\u001b[0;32m----> 3\u001b[0;31m         \u001b[0mdoc_df\u001b[0m \u001b[0;34m=\u001b[0m \u001b[0mpd\u001b[0m\u001b[0;34m.\u001b[0m\u001b[0mDataFrame\u001b[0m\u001b[0;34m.\u001b[0m\u001b[0mfrom_record\u001b[0m\u001b[0;34m(\u001b[0m\u001b[0mdata\u001b[0m \u001b[0;34m=\u001b[0m \u001b[0mobj\u001b[0m\u001b[0;34m)\u001b[0m\u001b[0;34m\u001b[0m\u001b[0;34m\u001b[0m\u001b[0m\n\u001b[0m",
      "\u001b[0;31mAttributeError\u001b[0m: type object 'DataFrame' has no attribute 'from_record'"
     ]
    }
   ],
   "source": [
    "for doc in doc_list:\n",
    "    for obj in doc:\n",
    "        doc_df = pd.DataFrame.from_record(data = obj)"
   ]
  },
  {
   "cell_type": "code",
   "execution_count": null,
   "metadata": {},
   "outputs": [],
   "source": [
    "    "
   ]
  }
 ],
 "metadata": {
  "kernelspec": {
   "display_name": "Python 3",
   "language": "python",
   "name": "python3"
  },
  "language_info": {
   "codemirror_mode": {
    "name": "ipython",
    "version": 3
   },
   "file_extension": ".py",
   "mimetype": "text/x-python",
   "name": "python",
   "nbconvert_exporter": "python",
   "pygments_lexer": "ipython3",
   "version": "3.8.2"
  }
 },
 "nbformat": 4,
 "nbformat_minor": 4
}
