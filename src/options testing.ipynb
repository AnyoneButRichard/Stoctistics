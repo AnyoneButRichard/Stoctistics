{
 "cells": [
  {
   "cell_type": "code",
   "execution_count": 1,
   "metadata": {},
   "outputs": [],
   "source": [
    "### Standard Libraries\n",
    "from datetime import datetime\n",
    "\n",
    "### Third Party Libraries\n",
    "import yfinance as yf\n",
    "import pandas as pd\n",
    "\n",
    "### Personal libraries\n",
    "from timer import Time_Helper\n",
    "\n",
    "from database import Data_Client\n",
    "from options3 import Options_Helper\n",
    "from options3 import Options_Record"
   ]
  },
  {
   "cell_type": "code",
   "execution_count": 2,
   "metadata": {},
   "outputs": [],
   "source": [
    "helper = Options_Helper()\n",
    "helper.store(\"A\")"
   ]
  },
  {
   "cell_type": "code",
   "execution_count": null,
   "metadata": {},
   "outputs": [],
   "source": [
    "### Testing Options Helper / Records\n",
    "record = Options_Record(\"MSFT\")\n",
    "doc_list = record.to_list_by_expiry()\n",
    "\n",
    "helper = Options_Helper()\n",
    "helper.store(\"MSFT\")"
   ]
  },
  {
   "cell_type": "code",
   "execution_count": null,
   "metadata": {},
   "outputs": [],
   "source": [
    "### Testing YFinance Options Dataframe\n",
    "ticker = yf.Ticker(\"MSFT\")\n",
    "dates = ticker.options\n",
    "\n",
    "opt = ticker.option_chain(dates[0])\n",
    "calls = opt.calls\n",
    "puts = opt.puts\n",
    "\n",
    "print(calls.columns)\n",
    "print(calls)\n",
    "print(calls[\"lastTradeDate\"], calls[\"inTheMoney\"])\n",
    "print(type(calls[\"lastTradeDate\"][0]))\n",
    "\n",
    "df_list = {}\n",
    "df_list[\"Dates\"] = dates\n",
    "\n",
    "for date in dates:\n",
    "    opt = ticker.option_chain(date)\n",
    "    calls = opt.calls\n",
    "    puts = opt.puts\n",
    "    print(date)\n",
    "\n",
    "    for i in calls.index:\n",
    "        print(i)"
   ]
  },
  {
   "cell_type": "code",
   "execution_count": null,
   "metadata": {},
   "outputs": [],
   "source": [
    "### Testing YFinance Options Dataframe\n",
    "ticker = yf.Ticker(\"MSFT\")\n",
    "dates = ticker.options\n",
    "opt = ticker.option_chain(dates[0])\n",
    "\n",
    "df = ticker.history()\n",
    "calls = opt.calls\n",
    "puts = opt.puts\n",
    "\n"
   ]
  },
  {
   "cell_type": "code",
   "execution_count": null,
   "metadata": {},
   "outputs": [],
   "source": [
    "### Identifying types\n",
    "\n",
    "for i in calls:\n",
    "    print(\"Type is: \", type(calls[i][0]), \" and column is: \", i)\n",
    "\n",
    "print(\"\\n\\n\\n\")\n",
    "    \n",
    "for i in df:\n",
    "    print(\"Type is: \", type(df[i][0]), \" and column is: \", i)"
   ]
  },
  {
   "cell_type": "code",
   "execution_count": null,
   "metadata": {},
   "outputs": [],
   "source": []
  }
 ],
 "metadata": {
  "kernelspec": {
   "display_name": "Python 3",
   "language": "python",
   "name": "python3"
  },
  "language_info": {
   "codemirror_mode": {
    "name": "ipython",
    "version": 3
   },
   "file_extension": ".py",
   "mimetype": "text/x-python",
   "name": "python",
   "nbconvert_exporter": "python",
   "pygments_lexer": "ipython3",
   "version": "3.8.2"
  }
 },
 "nbformat": 4,
 "nbformat_minor": 4
}
