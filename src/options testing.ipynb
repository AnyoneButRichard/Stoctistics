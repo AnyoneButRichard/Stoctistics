{
 "cells": [
  {
   "cell_type": "code",
   "execution_count": null,
   "metadata": {},
   "outputs": [],
   "source": [
    "### Standard Libraries\n",
    "from datetime import datetime\n",
    "\n",
    "### Third Party Libraries\n",
    "import yfinance as yf\n",
    "import pandas as pd\n",
    "\n",
    "### Personal libraries\n",
    "from database import Data_Client\n",
    "from options import Options_Helper\n",
    "from options import Options_Record"
   ]
  },
  {
   "cell_type": "code",
   "execution_count": null,
   "metadata": {},
   "outputs": [],
   "source": [
    "### Testing Options Helper / Records\n",
    "record = Options_Record(\"MSFT\")\n",
    "doc_list = record.to_list_by_expiry()\n",
    "\n",
    "helper = Options_Helper()\n",
    "helper.store(\"MSFT\")"
   ]
  },
  {
   "cell_type": "code",
   "execution_count": null,
   "metadata": {},
   "outputs": [],
   "source": [
    "### Testing YFinance Options Dataframe\n",
    "ticker = yf.Ticker(\"MSFT\")\n",
    "dates = ticker.options\n",
    "\n",
    "opt = ticker.option_chain(dates[0])\n",
    "calls = opt.calls\n",
    "puts = opt.puts\n",
    "\n",
    "print(calls.columns)\n",
    "print(calls)\n",
    "print(calls[\"lastTradeDate\"], calls[\"inTheMoney\"])\n",
    "print(type(calls[\"lastTradeDate\"][0]))\n",
    "\n",
    "df_list = {}\n",
    "df_list[\"Dates\"] = dates\n",
    "\n",
    "for date in dates:\n",
    "    opt = ticker.option_chain(date)\n",
    "    calls = opt.calls\n",
    "    puts = opt.puts\n",
    "    print(date)\n",
    "\n",
    "    for i in calls.index:\n",
    "        print(i)"
   ]
  },
  {
   "cell_type": "code",
   "execution_count": 38,
   "metadata": {},
   "outputs": [],
   "source": [
    "### Testing YFinance Options Dataframe\n",
    "ticker = yf.Ticker(\"MSFT\")\n",
    "dates = ticker.options\n",
    "opt = ticker.option_chain(dates[0])\n",
    "\n",
    "df = ticker.history()\n",
    "calls = opt.calls\n",
    "puts = opt.puts\n",
    "\n"
   ]
  },
  {
   "cell_type": "code",
   "execution_count": 39,
   "metadata": {},
   "outputs": [
    {
     "name": "stdout",
     "output_type": "stream",
     "text": [
      "Type is:  <class 'str'>  and column is:  contractSymbol\n",
      "Type is:  <class 'pandas._libs.tslibs.timestamps.Timestamp'>  and column is:  lastTradeDate\n",
      "Type is:  <class 'numpy.float64'>  and column is:  strike\n",
      "Type is:  <class 'numpy.float64'>  and column is:  lastPrice\n",
      "Type is:  <class 'numpy.float64'>  and column is:  bid\n",
      "Type is:  <class 'numpy.float64'>  and column is:  ask\n",
      "Type is:  <class 'numpy.float64'>  and column is:  change\n",
      "Type is:  <class 'numpy.float64'>  and column is:  percentChange\n",
      "Type is:  <class 'numpy.int64'>  and column is:  volume\n",
      "Type is:  <class 'numpy.int64'>  and column is:  openInterest\n",
      "Type is:  <class 'numpy.float64'>  and column is:  impliedVolatility\n",
      "Type is:  <class 'numpy.bool_'>  and column is:  inTheMoney\n",
      "Type is:  <class 'str'>  and column is:  contractSize\n",
      "Type is:  <class 'str'>  and column is:  currency\n",
      "\n",
      "\n",
      "\n",
      "\n",
      "Type is:  <class 'numpy.float64'>  and column is:  Open\n",
      "Type is:  <class 'numpy.float64'>  and column is:  High\n",
      "Type is:  <class 'numpy.float64'>  and column is:  Low\n",
      "Type is:  <class 'numpy.float64'>  and column is:  Close\n",
      "Type is:  <class 'numpy.int64'>  and column is:  Volume\n",
      "Type is:  <class 'numpy.int64'>  and column is:  Dividends\n",
      "Type is:  <class 'numpy.int64'>  and column is:  Stock Splits\n"
     ]
    }
   ],
   "source": [
    "### Identifying types\n",
    "\n",
    "for i in calls:\n",
    "    print(\"Type is: \", type(calls[i][0]), \" and column is: \", i)\n",
    "\n",
    "print(\"\\n\\n\\n\")\n",
    "    \n",
    "for i in df:\n",
    "    print(\"Type is: \", type(df[i][0]), \" and column is: \", i)"
   ]
  },
  {
   "cell_type": "code",
   "execution_count": null,
   "metadata": {},
   "outputs": [],
   "source": []
  }
 ],
 "metadata": {
  "kernelspec": {
   "display_name": "Python 3",
   "language": "python",
   "name": "python3"
  },
  "language_info": {
   "codemirror_mode": {
    "name": "ipython",
    "version": 3
   },
   "file_extension": ".py",
   "mimetype": "text/x-python",
   "name": "python",
   "nbconvert_exporter": "python",
   "pygments_lexer": "ipython3",
   "version": "3.8.2"
  }
 },
 "nbformat": 4,
 "nbformat_minor": 4
}
