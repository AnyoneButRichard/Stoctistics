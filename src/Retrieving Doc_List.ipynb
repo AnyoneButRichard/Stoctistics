{
 "cells": [
  {
   "cell_type": "code",
   "execution_count": null,
   "metadata": {},
   "outputs": [],
   "source": [
    "import yfinance as yf\n",
    "import pandas as pd\n",
    "import data\n",
    "import astocks"
   ]
  },
  {
   "cell_type": "code",
   "execution_count": 2,
   "metadata": {},
   "outputs": [],
   "source": [
    "# connect to cluster\n",
    "cluster = data.cluster_connect()\n",
    "db = cluster[\"astocks\"]\n",
    "coll = db[\"stocks\"]"
   ]
  },
  {
   "cell_type": "code",
   "execution_count": 3,
   "metadata": {},
   "outputs": [],
   "source": [
    "# data retrieval\n",
    "query = {\"Symbol\": \"MSFT\"}\n",
    "doc_list = coll.find(query)"
   ]
  },
  {
   "cell_type": "code",
   "execution_count": 4,
   "metadata": {},
   "outputs": [],
   "source": [
    "# generate an initial dataframe\n",
    "column_names = astocks.columns_stock()\n",
    "df = pd.DataFrame(columns = column_names)"
   ]
  },
  {
   "cell_type": "code",
   "execution_count": 5,
   "metadata": {},
   "outputs": [],
   "source": [
    "# iterate through documents and create dataframes to append\n",
    "for doc in doc_list:\n",
    "    doc_df = pd.DataFrame(doc, columns = column_names, index = doc[\"Timestamp\"])\n",
    "    df = df.append(doc_df)"
   ]
  },
  {
   "cell_type": "code",
   "execution_count": 10,
   "metadata": {},
   "outputs": [
    {
     "name": "stdout",
     "output_type": "stream",
     "text": [
      "                       Open   Close    High     Low   Volume Dividends  \\\n",
      "2020-08-11 13:30:00  207.15  205.39  207.55  205.09  2029886         0   \n",
      "2020-08-11 13:35:00  205.38  204.74  205.44  203.77  1488014         0   \n",
      "2020-08-11 13:40:00  204.70  204.69  205.12  203.80  1055072         0   \n",
      "2020-08-11 13:45:00  204.73  205.96  206.05  204.70   853017         0   \n",
      "2020-08-11 13:50:00  205.97  205.83  206.06  205.04   663412         0   \n",
      "...                     ...     ...     ...     ...      ...       ...   \n",
      "2020-08-17 17:55:00  209.85  209.92  209.94  209.78    96945         0   \n",
      "2020-08-17 18:00:00  209.91  209.87  210.05  209.82   111345         0   \n",
      "2020-08-17 18:05:00  209.87  209.97  209.99  209.83    86968         0   \n",
      "2020-08-17 18:10:00  209.97  210.04  210.11  209.93    78510         0   \n",
      "2020-08-17 18:15:37  210.04  210.04  210.04  210.04        0         0   \n",
      "\n",
      "                    Stock Splits  \n",
      "2020-08-11 13:30:00            0  \n",
      "2020-08-11 13:35:00            0  \n",
      "2020-08-11 13:40:00            0  \n",
      "2020-08-11 13:45:00            0  \n",
      "2020-08-11 13:50:00            0  \n",
      "...                          ...  \n",
      "2020-08-17 17:55:00            0  \n",
      "2020-08-17 18:00:00            0  \n",
      "2020-08-17 18:05:00            0  \n",
      "2020-08-17 18:10:00            0  \n",
      "2020-08-17 18:15:37            0  \n",
      "\n",
      "[370 rows x 7 columns]\n"
     ]
    }
   ],
   "source": [
    "# display dataframe as sorted\n",
    "df = df.sort_index()\n",
    "print(df)"
   ]
  },
  {
   "cell_type": "code",
   "execution_count": null,
   "metadata": {},
   "outputs": [],
   "source": []
  }
 ],
 "metadata": {
  "kernelspec": {
   "display_name": "Python 3",
   "language": "python",
   "name": "python3"
  },
  "language_info": {
   "codemirror_mode": {
    "name": "ipython",
    "version": 3
   },
   "file_extension": ".py",
   "mimetype": "text/x-python",
   "name": "python",
   "nbconvert_exporter": "python",
   "pygments_lexer": "ipython3",
   "version": "3.6.9"
  }
 },
 "nbformat": 4,
 "nbformat_minor": 4
}
