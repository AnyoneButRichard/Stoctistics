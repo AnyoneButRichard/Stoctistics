{
 "cells": [
  {
   "cell_type": "code",
   "execution_count": 2,
   "metadata": {},
   "outputs": [],
   "source": [
    "### Standard Libraries\n",
    "from datetime import datetime\n",
    "\n",
    "### Third Party Libraries\n",
    "import yfinance as yf\n",
    "import pandas as pd\n",
    "\n",
    "### Personal libraries\n",
    "from database import Data_Client"
   ]
  },
  {
   "cell_type": "code",
   "execution_count": 39,
   "metadata": {},
   "outputs": [],
   "source": [
    "ticker = yf.Ticker(\"MSFT\")\n",
    "dates = ticker.options\n",
    "\n",
    "opt = ticker.option_chain(dates[0])\n",
    "calls = opt.calls\n",
    "puts = opt.puts"
   ]
  },
  {
   "cell_type": "code",
   "execution_count": 27,
   "metadata": {},
   "outputs": [
    {
     "name": "stdout",
     "output_type": "stream",
     "text": [
      "Index(['contractSymbol', 'lastTradeDate', 'strike', 'lastPrice', 'bid', 'ask',\n",
      "       'change', 'percentChange', 'volume', 'openInterest',\n",
      "       'impliedVolatility', 'inTheMoney', 'contractSize', 'currency'],\n",
      "      dtype='object')\n",
      "<class 'pandas._libs.tslibs.timestamps.Timestamp'>\n"
     ]
    }
   ],
   "source": [
    "print(calls.columns)\n",
    "#print(calls)\n",
    "#print(calls[\"lastTradeDate\"], calls[\"inTheMoney\"])\n",
    "print(type(calls[\"lastTradeDate\"][0]))"
   ]
  },
  {
   "cell_type": "code",
   "execution_count": 52,
   "metadata": {},
   "outputs": [
    {
     "name": "stdout",
     "output_type": "stream",
     "text": [
      "2020-09-17\n",
      "2020-09-24\n",
      "2020-10-01\n",
      "2020-10-08\n",
      "2020-10-15\n",
      "2020-10-22\n",
      "2020-10-29\n",
      "2020-11-19\n",
      "2020-12-17\n",
      "2021-01-14\n",
      "2021-02-18\n",
      "2021-03-18\n",
      "2021-04-15\n",
      "2021-06-17\n",
      "2021-07-15\n",
      "2021-09-16\n",
      "2022-01-20\n",
      "2022-03-17\n",
      "2022-06-16\n",
      "2022-09-15\n"
     ]
    }
   ],
   "source": [
    "df_list = {}\n",
    "df_list[\"Dates\"] = dates\n",
    "\n",
    "for date in dates:\n",
    "    opt = ticker.option_chain(date)\n",
    "    calls = opt.calls\n",
    "    puts = opt.puts\n",
    "    df_list[\"Calls\"] = calls\n",
    "    df_list[\"Puts\"] = puts\n",
    "    print(date)"
   ]
  },
  {
   "cell_type": "code",
   "execution_count": 38,
   "metadata": {},
   "outputs": [
    {
     "name": "stdout",
     "output_type": "stream",
     "text": [
      "Index(['contractSymbol', 'lastTradeDate', 'strike', 'lastPrice', 'bid', 'ask',\n",
      "       'change', 'percentChange', 'volume', 'openInterest',\n",
      "       'impliedVolatility', 'inTheMoney', 'contractSize', 'currency'],\n",
      "      dtype='object')\n",
      "80.0\n"
     ]
    }
   ],
   "source": [
    "print(df_list[\"Calls\"].columns)\n",
    "print(df_list[\"Calls\"][\"strike\"])"
   ]
  },
  {
   "cell_type": "code",
   "execution_count": 50,
   "metadata": {},
   "outputs": [
    {
     "name": "stdout",
     "output_type": "stream",
     "text": [
      "0\n",
      "1\n",
      "2\n",
      "3\n",
      "4\n",
      "5\n",
      "6\n",
      "7\n",
      "8\n",
      "9\n",
      "10\n",
      "11\n",
      "12\n",
      "13\n",
      "14\n",
      "15\n",
      "16\n",
      "17\n",
      "18\n",
      "19\n",
      "20\n",
      "21\n",
      "22\n",
      "23\n",
      "24\n",
      "25\n",
      "26\n",
      "27\n",
      "28\n",
      "29\n",
      "30\n",
      "31\n",
      "32\n",
      "33\n",
      "34\n",
      "35\n",
      "36\n",
      "37\n",
      "38\n",
      "39\n",
      "40\n",
      "41\n",
      "42\n",
      "43\n",
      "44\n",
      "45\n",
      "46\n",
      "47\n",
      "48\n",
      "49\n",
      "50\n",
      "51\n",
      "52\n",
      "53\n",
      "54\n",
      "55\n",
      "56\n",
      "57\n",
      "58\n",
      "59\n",
      "60\n",
      "61\n",
      "62\n",
      "63\n",
      "64\n",
      "65\n",
      "66\n"
     ]
    }
   ],
   "source": [
    "for i in calls.index:\n",
    "    print(i)"
   ]
  },
  {
   "cell_type": "code",
   "execution_count": null,
   "metadata": {},
   "outputs": [],
   "source": []
  }
 ],
 "metadata": {
  "kernelspec": {
   "display_name": "Python 3",
   "language": "python",
   "name": "python3"
  },
  "language_info": {
   "codemirror_mode": {
    "name": "ipython",
    "version": 3
   },
   "file_extension": ".py",
   "mimetype": "text/x-python",
   "name": "python",
   "nbconvert_exporter": "python",
   "pygments_lexer": "ipython3",
   "version": "3.8.2"
  }
 },
 "nbformat": 4,
 "nbformat_minor": 4
}
